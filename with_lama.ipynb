{
 "cells": [
  {
   "cell_type": "code",
   "execution_count": 6,
   "metadata": {},
   "outputs": [
    {
     "name": "stdout",
     "output_type": "stream",
     "text": [
      "Requirement already satisfied: lightautoml in d:\\repos\\industrialiilab\\lab1\\venv\\lib\\site-packages (0.2.15)\n",
      "Collecting lightautoml\n",
      "  Using cached LightAutoML-0.2.16-py3-none-any.whl (262 kB)\n",
      "Requirement already satisfied: albumentations>=0.4.6 in d:\\repos\\industrialiilab\\lab1\\venv\\lib\\site-packages (from lightautoml) (1.3.1)\n",
      "Requirement already satisfied: autowoe>=1.2 in d:\\repos\\industrialiilab\\lab1\\venv\\lib\\site-packages (from lightautoml) (1.3.2)\n",
      "Requirement already satisfied: catboost in d:\\repos\\industrialiilab\\lab1\\venv\\lib\\site-packages (from lightautoml) (1.2.2)\n",
      "Requirement already satisfied: cmaes in d:\\repos\\industrialiilab\\lab1\\venv\\lib\\site-packages (from lightautoml) (0.10.0)\n",
      "Requirement already satisfied: efficientnet-pytorch in d:\\repos\\industrialiilab\\lab1\\venv\\lib\\site-packages (from lightautoml) (0.7.1)\n",
      "Requirement already satisfied: gensim>=4 in d:\\repos\\industrialiilab\\lab1\\venv\\lib\\site-packages (from lightautoml) (4.3.2)\n",
      "Requirement already satisfied: holidays in d:\\repos\\industrialiilab\\lab1\\venv\\lib\\site-packages (from lightautoml) (0.35)\n",
      "Requirement already satisfied: jinja2 in d:\\repos\\industrialiilab\\lab1\\venv\\lib\\site-packages (from lightautoml) (3.1.2)\n",
      "Requirement already satisfied: joblib in d:\\repos\\industrialiilab\\lab1\\venv\\lib\\site-packages (from lightautoml) (1.3.2)\n",
      "Requirement already satisfied: json2html in d:\\repos\\industrialiilab\\lab1\\venv\\lib\\site-packages (from lightautoml) (1.3.0)\n",
      "Requirement already satisfied: lightgbm<3.0,>=2.3 in d:\\repos\\industrialiilab\\lab1\\venv\\lib\\site-packages (from lightautoml) (2.3.1)\n",
      "Requirement already satisfied: log-calls in d:\\repos\\industrialiilab\\lab1\\venv\\lib\\site-packages (from lightautoml) (0.3.2)\n",
      "Requirement already satisfied: networkx in d:\\repos\\industrialiilab\\lab1\\venv\\lib\\site-packages (from lightautoml) (3.2.1)\n",
      "Requirement already satisfied: nltk in d:\\repos\\industrialiilab\\lab1\\venv\\lib\\site-packages (from lightautoml) (3.8.1)\n",
      "Requirement already satisfied: numpy in d:\\repos\\industrialiilab\\lab1\\venv\\lib\\site-packages (from lightautoml) (1.26.1)\n",
      "Requirement already satisfied: opencv-python in d:\\repos\\industrialiilab\\lab1\\venv\\lib\\site-packages (from lightautoml) (4.8.1.78)\n",
      "Requirement already satisfied: optuna in d:\\repos\\industrialiilab\\lab1\\venv\\lib\\site-packages (from lightautoml) (3.4.0)\n",
      "Requirement already satisfied: pandas>=1 in d:\\repos\\industrialiilab\\lab1\\venv\\lib\\site-packages (from lightautoml) (2.1.2)\n",
      "Requirement already satisfied: poetry-core<2.0.0,>=1.0.0 in d:\\repos\\industrialiilab\\lab1\\venv\\lib\\site-packages (from lightautoml) (1.8.1)\n",
      "Requirement already satisfied: pywavelets in d:\\repos\\industrialiilab\\lab1\\venv\\lib\\site-packages (from lightautoml) (1.4.1)\n",
      "Requirement already satisfied: pyyaml in d:\\repos\\industrialiilab\\lab1\\venv\\lib\\site-packages (from lightautoml) (6.0.1)\n",
      "Requirement already satisfied: scikit-image in d:\\repos\\industrialiilab\\lab1\\venv\\lib\\site-packages (from lightautoml) (0.22.0)\n",
      "Requirement already satisfied: scikit-learn>=0.22 in d:\\repos\\industrialiilab\\lab1\\venv\\lib\\site-packages (from lightautoml) (1.3.2)\n",
      "Requirement already satisfied: scipy in d:\\repos\\industrialiilab\\lab1\\venv\\lib\\site-packages (from lightautoml) (1.11.3)\n",
      "Requirement already satisfied: seaborn in d:\\repos\\industrialiilab\\lab1\\venv\\lib\\site-packages (from lightautoml) (0.13.0)\n",
      "INFO: pip is looking at multiple versions of lightautoml to determine which version is compatible with other requirements. This could take a while.\n",
      "Requirement already satisfied: torch>=1.6 in d:\\repos\\industrialiilab\\lab1\\venv\\lib\\site-packages (from lightautoml) (2.1.0)\n",
      "Requirement already satisfied: torchvision in d:\\repos\\industrialiilab\\lab1\\venv\\lib\\site-packages (from lightautoml) (0.16.0)\n",
      "Requirement already satisfied: tqdm in d:\\repos\\industrialiilab\\lab1\\venv\\lib\\site-packages (from lightautoml) (4.65.2)\n",
      "Requirement already satisfied: transformers>=4 in d:\\repos\\industrialiilab\\lab1\\venv\\lib\\site-packages (from lightautoml) (4.35.0)\n",
      "Requirement already satisfied: webencodings in d:\\repos\\industrialiilab\\lab1\\venv\\lib\\site-packages (from lightautoml) (0.5.1)\n",
      "Requirement already satisfied: qudida>=0.0.4 in d:\\repos\\industrialiilab\\lab1\\venv\\lib\\site-packages (from albumentations>=0.4.6->lightautoml) (0.0.4)\n",
      "Requirement already satisfied: opencv-python-headless>=4.1.1 in d:\\repos\\industrialiilab\\lab1\\venv\\lib\\site-packages (from albumentations>=0.4.6->lightautoml) (4.8.1.78)\n",
      "Requirement already satisfied: StrEnum<0.5.0,>=0.4.7 in d:\\repos\\industrialiilab\\lab1\\venv\\lib\\site-packages (from autowoe>=1.2->lightautoml) (0.4.15)\n",
      "Requirement already satisfied: matplotlib in d:\\repos\\industrialiilab\\lab1\\venv\\lib\\site-packages (from autowoe>=1.2->lightautoml) (3.8.1)\n",
      "Requirement already satisfied: pytest in d:\\repos\\industrialiilab\\lab1\\venv\\lib\\site-packages (from autowoe>=1.2->lightautoml) (7.4.3)\n",
      "Requirement already satisfied: pytz in d:\\repos\\industrialiilab\\lab1\\venv\\lib\\site-packages (from autowoe>=1.2->lightautoml) (2023.3.post1)\n",
      "Requirement already satisfied: sphinx in d:\\repos\\industrialiilab\\lab1\\venv\\lib\\site-packages (from autowoe>=1.2->lightautoml) (7.2.6)\n",
      "Requirement already satisfied: sphinx-rtd-theme in d:\\repos\\industrialiilab\\lab1\\venv\\lib\\site-packages (from autowoe>=1.2->lightautoml) (1.3.0)\n",
      "Requirement already satisfied: python-dateutil>=2.8.2 in d:\\repos\\industrialiilab\\lab1\\venv\\lib\\site-packages (from pandas>=1->lightautoml) (2.8.2)\n",
      "Requirement already satisfied: tzdata>=2022.1 in d:\\repos\\industrialiilab\\lab1\\venv\\lib\\site-packages (from pandas>=1->lightautoml) (2023.3)\n",
      "Requirement already satisfied: pillow>=9.0.1 in d:\\repos\\industrialiilab\\lab1\\venv\\lib\\site-packages (from scikit-image->lightautoml) (10.0.1)\n",
      "Requirement already satisfied: imageio>=2.27 in d:\\repos\\industrialiilab\\lab1\\venv\\lib\\site-packages (from scikit-image->lightautoml) (2.31.6)\n",
      "Requirement already satisfied: tifffile>=2022.8.12 in d:\\repos\\industrialiilab\\lab1\\venv\\lib\\site-packages (from scikit-image->lightautoml) (2023.9.26)\n",
      "Requirement already satisfied: packaging>=21 in d:\\repos\\industrialiilab\\lab1\\venv\\lib\\site-packages (from scikit-image->lightautoml) (23.2)\n",
      "Requirement already satisfied: lazy_loader>=0.3 in d:\\repos\\industrialiilab\\lab1\\venv\\lib\\site-packages (from scikit-image->lightautoml) (0.3)\n",
      "Requirement already satisfied: threadpoolctl>=2.0.0 in d:\\repos\\industrialiilab\\lab1\\venv\\lib\\site-packages (from scikit-learn>=0.22->lightautoml) (3.2.0)\n",
      "Requirement already satisfied: filelock in d:\\repos\\industrialiilab\\lab1\\venv\\lib\\site-packages (from torch>=1.6->lightautoml) (3.13.1)\n",
      "Requirement already satisfied: typing-extensions in d:\\repos\\industrialiilab\\lab1\\venv\\lib\\site-packages (from torch>=1.6->lightautoml) (4.8.0)\n",
      "Requirement already satisfied: sympy in d:\\repos\\industrialiilab\\lab1\\venv\\lib\\site-packages (from torch>=1.6->lightautoml) (1.12)\n",
      "Requirement already satisfied: fsspec in d:\\repos\\industrialiilab\\lab1\\venv\\lib\\site-packages (from torch>=1.6->lightautoml) (2023.10.0)\n",
      "Requirement already satisfied: colorama in d:\\repos\\industrialiilab\\lab1\\venv\\lib\\site-packages (from tqdm->lightautoml) (0.4.6)\n",
      "Requirement already satisfied: huggingface-hub<1.0,>=0.16.4 in d:\\repos\\industrialiilab\\lab1\\venv\\lib\\site-packages (from transformers>=4->lightautoml) (0.17.3)\n",
      "Requirement already satisfied: regex!=2019.12.17 in d:\\repos\\industrialiilab\\lab1\\venv\\lib\\site-packages (from transformers>=4->lightautoml) (2023.10.3)\n",
      "Requirement already satisfied: requests in d:\\repos\\industrialiilab\\lab1\\venv\\lib\\site-packages (from transformers>=4->lightautoml) (2.31.0)\n",
      "Requirement already satisfied: tokenizers<0.15,>=0.14 in d:\\repos\\industrialiilab\\lab1\\venv\\lib\\site-packages (from transformers>=4->lightautoml) (0.14.1)\n",
      "Requirement already satisfied: safetensors>=0.3.1 in d:\\repos\\industrialiilab\\lab1\\venv\\lib\\site-packages (from transformers>=4->lightautoml) (0.4.0)\n",
      "Requirement already satisfied: graphviz in d:\\repos\\industrialiilab\\lab1\\venv\\lib\\site-packages (from catboost->lightautoml) (0.20.1)\n",
      "Requirement already satisfied: plotly in d:\\repos\\industrialiilab\\lab1\\venv\\lib\\site-packages (from catboost->lightautoml) (5.18.0)\n",
      "Requirement already satisfied: six in d:\\repos\\industrialiilab\\lab1\\venv\\lib\\site-packages (from catboost->lightautoml) (1.16.0)\n",
      "Requirement already satisfied: smart-open>=1.8.1 in d:\\repos\\industrialiilab\\lab1\\venv\\lib\\site-packages (from gensim>=4->lightautoml) (6.4.0)\n",
      "Requirement already satisfied: MarkupSafe>=2.0 in d:\\repos\\industrialiilab\\lab1\\venv\\lib\\site-packages (from jinja2->lightautoml) (2.1.3)\n",
      "Requirement already satisfied: click in d:\\repos\\industrialiilab\\lab1\\venv\\lib\\site-packages (from nltk->lightautoml) (8.1.7)\n",
      "Requirement already satisfied: alembic>=1.5.0 in d:\\repos\\industrialiilab\\lab1\\venv\\lib\\site-packages (from optuna->lightautoml) (1.12.1)\n",
      "Requirement already satisfied: colorlog in d:\\repos\\industrialiilab\\lab1\\venv\\lib\\site-packages (from optuna->lightautoml) (6.7.0)\n",
      "Requirement already satisfied: sqlalchemy>=1.3.0 in d:\\repos\\industrialiilab\\lab1\\venv\\lib\\site-packages (from optuna->lightautoml) (2.0.23)\n",
      "Requirement already satisfied: Mako in d:\\repos\\industrialiilab\\lab1\\venv\\lib\\site-packages (from alembic>=1.5.0->optuna->lightautoml) (1.2.4)\n",
      "Requirement already satisfied: contourpy>=1.0.1 in d:\\repos\\industrialiilab\\lab1\\venv\\lib\\site-packages (from matplotlib->autowoe>=1.2->lightautoml) (1.1.1)\n",
      "Requirement already satisfied: cycler>=0.10 in d:\\repos\\industrialiilab\\lab1\\venv\\lib\\site-packages (from matplotlib->autowoe>=1.2->lightautoml) (0.12.1)\n",
      "Requirement already satisfied: fonttools>=4.22.0 in d:\\repos\\industrialiilab\\lab1\\venv\\lib\\site-packages (from matplotlib->autowoe>=1.2->lightautoml) (4.43.1)\n",
      "Requirement already satisfied: kiwisolver>=1.3.1 in d:\\repos\\industrialiilab\\lab1\\venv\\lib\\site-packages (from matplotlib->autowoe>=1.2->lightautoml) (1.4.5)\n",
      "Requirement already satisfied: pyparsing>=2.3.1 in d:\\repos\\industrialiilab\\lab1\\venv\\lib\\site-packages (from matplotlib->autowoe>=1.2->lightautoml) (3.1.1)\n",
      "Requirement already satisfied: greenlet!=0.4.17 in d:\\repos\\industrialiilab\\lab1\\venv\\lib\\site-packages (from sqlalchemy>=1.3.0->optuna->lightautoml) (3.0.1)\n",
      "Requirement already satisfied: tenacity>=6.2.0 in d:\\repos\\industrialiilab\\lab1\\venv\\lib\\site-packages (from plotly->catboost->lightautoml) (8.2.3)\n",
      "Requirement already satisfied: iniconfig in d:\\repos\\industrialiilab\\lab1\\venv\\lib\\site-packages (from pytest->autowoe>=1.2->lightautoml) (2.0.0)\n",
      "Requirement already satisfied: pluggy<2.0,>=0.12 in d:\\repos\\industrialiilab\\lab1\\venv\\lib\\site-packages (from pytest->autowoe>=1.2->lightautoml) (1.3.0)\n",
      "Requirement already satisfied: charset-normalizer<4,>=2 in d:\\repos\\industrialiilab\\lab1\\venv\\lib\\site-packages (from requests->transformers>=4->lightautoml) (3.3.2)\n",
      "Requirement already satisfied: idna<4,>=2.5 in d:\\repos\\industrialiilab\\lab1\\venv\\lib\\site-packages (from requests->transformers>=4->lightautoml) (3.4)\n",
      "Requirement already satisfied: urllib3<3,>=1.21.1 in d:\\repos\\industrialiilab\\lab1\\venv\\lib\\site-packages (from requests->transformers>=4->lightautoml) (2.0.7)\n",
      "Requirement already satisfied: certifi>=2017.4.17 in d:\\repos\\industrialiilab\\lab1\\venv\\lib\\site-packages (from requests->transformers>=4->lightautoml) (2023.7.22)\n",
      "Requirement already satisfied: sphinxcontrib-applehelp in d:\\repos\\industrialiilab\\lab1\\venv\\lib\\site-packages (from sphinx->autowoe>=1.2->lightautoml) (1.0.7)\n",
      "Requirement already satisfied: sphinxcontrib-devhelp in d:\\repos\\industrialiilab\\lab1\\venv\\lib\\site-packages (from sphinx->autowoe>=1.2->lightautoml) (1.0.5)\n",
      "Requirement already satisfied: sphinxcontrib-jsmath in d:\\repos\\industrialiilab\\lab1\\venv\\lib\\site-packages (from sphinx->autowoe>=1.2->lightautoml) (1.0.1)\n",
      "Requirement already satisfied: sphinxcontrib-htmlhelp>=2.0.0 in d:\\repos\\industrialiilab\\lab1\\venv\\lib\\site-packages (from sphinx->autowoe>=1.2->lightautoml) (2.0.4)\n",
      "Requirement already satisfied: sphinxcontrib-serializinghtml>=1.1.9 in d:\\repos\\industrialiilab\\lab1\\venv\\lib\\site-packages (from sphinx->autowoe>=1.2->lightautoml) (1.1.9)\n",
      "Requirement already satisfied: sphinxcontrib-qthelp in d:\\repos\\industrialiilab\\lab1\\venv\\lib\\site-packages (from sphinx->autowoe>=1.2->lightautoml) (1.0.6)\n",
      "Requirement already satisfied: Pygments>=2.14 in d:\\repos\\industrialiilab\\lab1\\venv\\lib\\site-packages (from sphinx->autowoe>=1.2->lightautoml) (2.16.1)\n",
      "Requirement already satisfied: docutils<0.21,>=0.18.1 in d:\\repos\\industrialiilab\\lab1\\venv\\lib\\site-packages (from sphinx->autowoe>=1.2->lightautoml) (0.18.1)\n",
      "Requirement already satisfied: snowballstemmer>=2.0 in d:\\repos\\industrialiilab\\lab1\\venv\\lib\\site-packages (from sphinx->autowoe>=1.2->lightautoml) (2.2.0)\n",
      "Requirement already satisfied: babel>=2.9 in d:\\repos\\industrialiilab\\lab1\\venv\\lib\\site-packages (from sphinx->autowoe>=1.2->lightautoml) (2.13.1)\n",
      "Requirement already satisfied: alabaster<0.8,>=0.7 in d:\\repos\\industrialiilab\\lab1\\venv\\lib\\site-packages (from sphinx->autowoe>=1.2->lightautoml) (0.7.13)\n",
      "Requirement already satisfied: imagesize>=1.3 in d:\\repos\\industrialiilab\\lab1\\venv\\lib\\site-packages (from sphinx->autowoe>=1.2->lightautoml) (1.4.1)\n",
      "Requirement already satisfied: sphinxcontrib-jquery<5,>=4 in d:\\repos\\industrialiilab\\lab1\\venv\\lib\\site-packages (from sphinx-rtd-theme->autowoe>=1.2->lightautoml) (4.1)\n",
      "Requirement already satisfied: mpmath>=0.19 in d:\\repos\\industrialiilab\\lab1\\venv\\lib\\site-packages (from sympy->torch>=1.6->lightautoml) (1.3.0)\n"
     ]
    }
   ],
   "source": [
    "!pip install -U lightautoml --force-reinstall"
   ]
  },
  {
   "cell_type": "code",
   "execution_count": 7,
   "metadata": {},
   "outputs": [],
   "source": [
    "import pandas as pd \n",
    "import numpy as np\n",
    "\n",
    "train = pd.read_csv('data/train.csv')\n",
    "train.replace(['-9999', -9999], np.nan, inplace=True)\n",
    "test = pd.concat([pd.read_csv('data/test.csv'), pd.read_csv('data/real_test_result.csv')], axis=1)\n",
    "test.replace(['-9999', -9999], np.nan, inplace=True)\n",
    "\n",
    "train = train.dropna(axis=0)\n",
    "test = test.dropna(axis=0)"
   ]
  },
  {
   "cell_type": "code",
   "execution_count": 8,
   "metadata": {},
   "outputs": [
    {
     "ename": "TypeError",
     "evalue": "cannot set 'get_record_history_wrapper' attribute of immutable type 'object'",
     "output_type": "error",
     "traceback": [
      "\u001b[1;31m---------------------------------------------------------------------------\u001b[0m",
      "\u001b[1;31mTypeError\u001b[0m                                 Traceback (most recent call last)",
      "\u001b[1;32md:\\repos\\IndustrialIILab\\lab1\\with_lama.ipynb Cell 3\u001b[0m line \u001b[0;36m1\n\u001b[1;32m----> <a href='vscode-notebook-cell:/d%3A/repos/IndustrialIILab/lab1/with_lama.ipynb#W1sZmlsZQ%3D%3D?line=0'>1</a>\u001b[0m \u001b[39mfrom\u001b[39;00m \u001b[39mlightautoml\u001b[39;00m\u001b[39m.\u001b[39;00m\u001b[39mautoml\u001b[39;00m\u001b[39m.\u001b[39;00m\u001b[39mpresets\u001b[39;00m\u001b[39m.\u001b[39;00m\u001b[39mtabular_presets\u001b[39;00m \u001b[39mimport\u001b[39;00m TabularAutoML, TabularUtilizedAutoML\n\u001b[0;32m      <a href='vscode-notebook-cell:/d%3A/repos/IndustrialIILab/lab1/with_lama.ipynb#W1sZmlsZQ%3D%3D?line=1'>2</a>\u001b[0m \u001b[39mfrom\u001b[39;00m \u001b[39mlightautoml\u001b[39;00m\u001b[39m.\u001b[39;00m\u001b[39mtasks\u001b[39;00m \u001b[39mimport\u001b[39;00m Task\n\u001b[0;32m      <a href='vscode-notebook-cell:/d%3A/repos/IndustrialIILab/lab1/with_lama.ipynb#W1sZmlsZQ%3D%3D?line=2'>3</a>\u001b[0m \u001b[39mfrom\u001b[39;00m \u001b[39mlightautoml\u001b[39;00m\u001b[39m.\u001b[39;00m\u001b[39mreport\u001b[39;00m\u001b[39m.\u001b[39;00m\u001b[39mreport_deco\u001b[39;00m \u001b[39mimport\u001b[39;00m ReportDeco\n",
      "File \u001b[1;32md:\\repos\\IndustrialIILab\\lab1\\venv\\Lib\\site-packages\\lightautoml\\automl\\presets\\tabular_presets.py:14\u001b[0m\n\u001b[0;32m     11\u001b[0m \u001b[39mfrom\u001b[39;00m \u001b[39mlog_calls\u001b[39;00m \u001b[39mimport\u001b[39;00m record_history\n\u001b[0;32m     12\u001b[0m \u001b[39mfrom\u001b[39;00m \u001b[39mpandas\u001b[39;00m \u001b[39mimport\u001b[39;00m DataFrame\n\u001b[1;32m---> 14\u001b[0m \u001b[39mfrom\u001b[39;00m \u001b[39m.\u001b[39;00m\u001b[39mbase\u001b[39;00m \u001b[39mimport\u001b[39;00m AutoMLPreset, upd_params\n\u001b[0;32m     15\u001b[0m \u001b[39mfrom\u001b[39;00m \u001b[39m.\u001b[39;00m\u001b[39mutils\u001b[39;00m \u001b[39mimport\u001b[39;00m calc_feats_permutation_imps\n\u001b[0;32m     16\u001b[0m \u001b[39mfrom\u001b[39;00m \u001b[39m.\u001b[39;00m\u001b[39m.\u001b[39;00m\u001b[39mblend\u001b[39;00m \u001b[39mimport\u001b[39;00m WeightedBlender, MeanBlender\n",
      "File \u001b[1;32md:\\repos\\IndustrialIILab\\lab1\\venv\\Lib\\site-packages\\lightautoml\\automl\\presets\\base.py:12\u001b[0m\n\u001b[0;32m      9\u001b[0m \u001b[39mimport\u001b[39;00m \u001b[39myaml\u001b[39;00m\n\u001b[0;32m     10\u001b[0m \u001b[39mfrom\u001b[39;00m \u001b[39mlog_calls\u001b[39;00m \u001b[39mimport\u001b[39;00m record_history\n\u001b[1;32m---> 12\u001b[0m \u001b[39mfrom\u001b[39;00m \u001b[39m.\u001b[39;00m\u001b[39m.\u001b[39;00m\u001b[39mbase\u001b[39;00m \u001b[39mimport\u001b[39;00m AutoML\n\u001b[0;32m     13\u001b[0m \u001b[39mfrom\u001b[39;00m \u001b[39m.\u001b[39;00m\u001b[39m.\u001b[39;00m\u001b[39m.\u001b[39;00m\u001b[39mdataset\u001b[39;00m\u001b[39m.\u001b[39;00m\u001b[39mbase\u001b[39;00m \u001b[39mimport\u001b[39;00m LAMLDataset\n\u001b[0;32m     14\u001b[0m \u001b[39mfrom\u001b[39;00m \u001b[39m.\u001b[39;00m\u001b[39m.\u001b[39;00m\u001b[39m.\u001b[39;00m\u001b[39mtasks\u001b[39;00m \u001b[39mimport\u001b[39;00m Task\n",
      "File \u001b[1;32md:\\repos\\IndustrialIILab\\lab1\\venv\\Lib\\site-packages\\lightautoml\\automl\\base.py:8\u001b[0m\n\u001b[0;32m      4\u001b[0m \u001b[39mfrom\u001b[39;00m \u001b[39mtyping\u001b[39;00m \u001b[39mimport\u001b[39;00m Sequence, Any, Optional, Iterable, Dict, List\n\u001b[0;32m      6\u001b[0m \u001b[39mfrom\u001b[39;00m \u001b[39mlog_calls\u001b[39;00m \u001b[39mimport\u001b[39;00m record_history\n\u001b[1;32m----> 8\u001b[0m \u001b[39mfrom\u001b[39;00m \u001b[39m.\u001b[39;00m\u001b[39mblend\u001b[39;00m \u001b[39mimport\u001b[39;00m Blender, BestModelSelector\n\u001b[0;32m      9\u001b[0m \u001b[39mfrom\u001b[39;00m \u001b[39m.\u001b[39;00m\u001b[39m.\u001b[39;00m\u001b[39mdataset\u001b[39;00m\u001b[39m.\u001b[39;00m\u001b[39mbase\u001b[39;00m \u001b[39mimport\u001b[39;00m LAMLDataset\n\u001b[0;32m     10\u001b[0m \u001b[39mfrom\u001b[39;00m \u001b[39m.\u001b[39;00m\u001b[39m.\u001b[39;00m\u001b[39mdataset\u001b[39;00m\u001b[39m.\u001b[39;00m\u001b[39mutils\u001b[39;00m \u001b[39mimport\u001b[39;00m concatenate\n",
      "File \u001b[1;32md:\\repos\\IndustrialIILab\\lab1\\venv\\Lib\\site-packages\\lightautoml\\automl\\blend.py:9\u001b[0m\n\u001b[0;32m      6\u001b[0m \u001b[39mfrom\u001b[39;00m \u001b[39mlog_calls\u001b[39;00m \u001b[39mimport\u001b[39;00m record_history\n\u001b[0;32m      7\u001b[0m \u001b[39mfrom\u001b[39;00m \u001b[39mscipy\u001b[39;00m\u001b[39m.\u001b[39;00m\u001b[39moptimize\u001b[39;00m \u001b[39mimport\u001b[39;00m minimize_scalar\n\u001b[1;32m----> 9\u001b[0m \u001b[39mfrom\u001b[39;00m \u001b[39m.\u001b[39;00m\u001b[39m.\u001b[39;00m\u001b[39mdataset\u001b[39;00m\u001b[39m.\u001b[39;00m\u001b[39mbase\u001b[39;00m \u001b[39mimport\u001b[39;00m LAMLDataset\n\u001b[0;32m     10\u001b[0m \u001b[39mfrom\u001b[39;00m \u001b[39m.\u001b[39;00m\u001b[39m.\u001b[39;00m\u001b[39mdataset\u001b[39;00m\u001b[39m.\u001b[39;00m\u001b[39mnp_pd_dataset\u001b[39;00m \u001b[39mimport\u001b[39;00m NumpyDataset\n\u001b[0;32m     11\u001b[0m \u001b[39mfrom\u001b[39;00m \u001b[39m.\u001b[39;00m\u001b[39m.\u001b[39;00m\u001b[39mdataset\u001b[39;00m\u001b[39m.\u001b[39;00m\u001b[39mroles\u001b[39;00m \u001b[39mimport\u001b[39;00m NumericRole\n",
      "File \u001b[1;32md:\\repos\\IndustrialIILab\\lab1\\venv\\Lib\\site-packages\\lightautoml\\dataset\\base.py:8\u001b[0m\n\u001b[0;32m      4\u001b[0m \u001b[39mfrom\u001b[39;00m \u001b[39mtyping\u001b[39;00m \u001b[39mimport\u001b[39;00m Any, Optional, Dict, List, Tuple, Sequence, Union, TypeVar\n\u001b[0;32m      6\u001b[0m \u001b[39mfrom\u001b[39;00m \u001b[39mlog_calls\u001b[39;00m \u001b[39mimport\u001b[39;00m record_history\n\u001b[1;32m----> 8\u001b[0m \u001b[39mfrom\u001b[39;00m \u001b[39m.\u001b[39;00m\u001b[39mroles\u001b[39;00m \u001b[39mimport\u001b[39;00m ColumnRole\n\u001b[0;32m      9\u001b[0m \u001b[39mfrom\u001b[39;00m \u001b[39m.\u001b[39;00m\u001b[39m.\u001b[39;00m\u001b[39mtasks\u001b[39;00m\u001b[39m.\u001b[39;00m\u001b[39mbase\u001b[39;00m \u001b[39mimport\u001b[39;00m Task\n\u001b[0;32m     11\u001b[0m valid_array_attributes \u001b[39m=\u001b[39m (\u001b[39m'\u001b[39m\u001b[39mtarget\u001b[39m\u001b[39m'\u001b[39m, \u001b[39m'\u001b[39m\u001b[39mgroup\u001b[39m\u001b[39m'\u001b[39m, \u001b[39m'\u001b[39m\u001b[39mfolds\u001b[39m\u001b[39m'\u001b[39m, \u001b[39m'\u001b[39m\u001b[39mweights\u001b[39m\u001b[39m'\u001b[39m)\n",
      "File \u001b[1;32md:\\repos\\IndustrialIILab\\lab1\\venv\\Lib\\site-packages\\lightautoml\\dataset\\roles.py:14\u001b[0m\n\u001b[0;32m      9\u001b[0m Dtype \u001b[39m=\u001b[39m Union[Callable, \u001b[39mtype\u001b[39m, \u001b[39mstr\u001b[39m]\n\u001b[0;32m     12\u001b[0m \u001b[39m# valid_features_str_names = []\u001b[39;00m\n\u001b[1;32m---> 14\u001b[0m \u001b[39m@record_history\u001b[39;49m(enabled\u001b[39m=\u001b[39;49m\u001b[39mFalse\u001b[39;49;00m)\n\u001b[0;32m     15\u001b[0m \u001b[39mclass\u001b[39;49;00m \u001b[39mColumnRole\u001b[39;49;00m:\n\u001b[0;32m     16\u001b[0m \u001b[39m    \u001b[39;49m\u001b[39m\"\"\"Abstract class for column role.\u001b[39;49;00m\n\u001b[0;32m     17\u001b[0m \n\u001b[0;32m     18\u001b[0m \u001b[39m    Role type defines column dtype,\u001b[39;49;00m\n\u001b[1;32m   (...)\u001b[0m\n\u001b[0;32m     22\u001b[0m \n\u001b[0;32m     23\u001b[0m \u001b[39m    \"\"\"\u001b[39;49;00m\n\u001b[0;32m     24\u001b[0m     dtype \u001b[39m=\u001b[39;49m \u001b[39mobject\u001b[39;49m\n",
      "File \u001b[1;32md:\\repos\\IndustrialIILab\\lab1\\venv\\Lib\\site-packages\\log_calls\\log_calls.py:1691\u001b[0m, in \u001b[0;36m_deco_base.__call__\u001b[1;34m(self, f_or_klass)\u001b[0m\n\u001b[0;32m   1684\u001b[0m \u001b[39mself\u001b[39m\u001b[39m.\u001b[39mcls \u001b[39m=\u001b[39m klass\n\u001b[0;32m   1686\u001b[0m \u001b[39mif\u001b[39;00m klass:\n\u001b[0;32m   1687\u001b[0m     \u001b[39m#+*+*+*+*+*+*+*+*+*+*+*+*+*+*+*+*+*+*+*+*+*+*+*+*+*+*+*+*+*+*+*+*\u001b[39;00m\n\u001b[0;32m   1688\u001b[0m     \u001b[39m# 0.3.0 -- case \"f_or_klass is a class\" -- namely, klass\u001b[39;00m\n\u001b[0;32m   1689\u001b[0m     \u001b[39m#+*+*+*+*+*+*+*+*+*+*+*+*+*+*+*+*+*+*+*+*+*+*+*+*+*+*+*+*+*+*+*+*\u001b[39;00m\n\u001b[1;32m-> 1691\u001b[0m     \u001b[39mself\u001b[39;49m\u001b[39m.\u001b[39;49m_class__call__(klass)      \u001b[39m# modifies klass (methods & inner classes) (if not builtin)\u001b[39;00m\n\u001b[0;32m   1692\u001b[0m     \u001b[39mself\u001b[39m\u001b[39m.\u001b[39m_add_class_attrs(klass)    \u001b[39m# v0.3.0v20 traps TypeError for builtins\u001b[39;00m\n\u001b[0;32m   1693\u001b[0m     \u001b[39mreturn\u001b[39;00m klass\n",
      "File \u001b[1;32md:\\repos\\IndustrialIILab\\lab1\\venv\\Lib\\site-packages\\log_calls\\log_calls.py:1482\u001b[0m, in \u001b[0;36m_deco_base._class__call__\u001b[1;34m(self, klass)\u001b[0m\n\u001b[0;32m   1479\u001b[0m     new_only \u001b[39m=\u001b[39m deco_obj\u001b[39m.\u001b[39m_only \u001b[39mor\u001b[39;00m \u001b[39mself\u001b[39m\u001b[39m.\u001b[39m_only\n\u001b[0;32m   1480\u001b[0m     new_omit \u001b[39m+\u001b[39m\u001b[39m=\u001b[39m deco_obj\u001b[39m.\u001b[39m_omit\n\u001b[1;32m-> 1482\u001b[0m new_class \u001b[39m=\u001b[39m \u001b[39mself\u001b[39;49m\u001b[39m.\u001b[39;49m\u001b[39m__class__\u001b[39;49m(\n\u001b[0;32m   1483\u001b[0m     settings\u001b[39m=\u001b[39;49mnew_settings,\n\u001b[0;32m   1484\u001b[0m     only\u001b[39m=\u001b[39;49mnew_only,\n\u001b[0;32m   1485\u001b[0m     omit\u001b[39m=\u001b[39;49mnew_omit\n\u001b[0;32m   1486\u001b[0m )(item)\n\u001b[0;32m   1487\u001b[0m \u001b[39m# and replace in class dict\u001b[39;00m\n\u001b[0;32m   1488\u001b[0m \u001b[39msetattr\u001b[39m(klass, name, new_class)\n",
      "File \u001b[1;32md:\\repos\\IndustrialIILab\\lab1\\venv\\Lib\\site-packages\\log_calls\\log_calls.py:1692\u001b[0m, in \u001b[0;36m_deco_base.__call__\u001b[1;34m(self, f_or_klass)\u001b[0m\n\u001b[0;32m   1686\u001b[0m \u001b[39mif\u001b[39;00m klass:\n\u001b[0;32m   1687\u001b[0m     \u001b[39m#+*+*+*+*+*+*+*+*+*+*+*+*+*+*+*+*+*+*+*+*+*+*+*+*+*+*+*+*+*+*+*+*\u001b[39;00m\n\u001b[0;32m   1688\u001b[0m     \u001b[39m# 0.3.0 -- case \"f_or_klass is a class\" -- namely, klass\u001b[39;00m\n\u001b[0;32m   1689\u001b[0m     \u001b[39m#+*+*+*+*+*+*+*+*+*+*+*+*+*+*+*+*+*+*+*+*+*+*+*+*+*+*+*+*+*+*+*+*\u001b[39;00m\n\u001b[0;32m   1691\u001b[0m     \u001b[39mself\u001b[39m\u001b[39m.\u001b[39m_class__call__(klass)      \u001b[39m# modifies klass (methods & inner classes) (if not builtin)\u001b[39;00m\n\u001b[1;32m-> 1692\u001b[0m     \u001b[39mself\u001b[39;49m\u001b[39m.\u001b[39;49m_add_class_attrs(klass)    \u001b[39m# v0.3.0v20 traps TypeError for builtins\u001b[39;00m\n\u001b[0;32m   1693\u001b[0m     \u001b[39mreturn\u001b[39;00m klass\n\u001b[0;32m   1695\u001b[0m \u001b[39melif\u001b[39;00m \u001b[39mnot\u001b[39;00m f:\n\u001b[0;32m   1696\u001b[0m     \u001b[39m#+*+*+*+*+*+*+*+*+*+*+*+*+*+*+*+*+*+*+*+*+*+*+*+*+*+*+*+*+*+*+*+*\u001b[39;00m\n\u001b[0;32m   1697\u001b[0m     \u001b[39m# 0.3.0 -- case \"f_or_klass is a callable but not a function\"\u001b[39;00m\n\u001b[1;32m   (...)\u001b[0m\n\u001b[0;32m   1701\u001b[0m     \u001b[39m# Callable builtins e.g. len are not functions in the isfunction sense,\u001b[39;00m\n\u001b[0;32m   1702\u001b[0m     \u001b[39m# can't deco anyway. Just give up (quietly):\u001b[39;00m\n",
      "File \u001b[1;32md:\\repos\\IndustrialIILab\\lab1\\venv\\Lib\\site-packages\\log_calls\\log_calls.py:2138\u001b[0m, in \u001b[0;36m_deco_base._add_class_attrs\u001b[1;34m(self, klass)\u001b[0m\n\u001b[0;32m   2136\u001b[0m this_deco_class \u001b[39m=\u001b[39m \u001b[39mself\u001b[39m\u001b[39m.\u001b[39m\u001b[39m__class__\u001b[39m\n\u001b[0;32m   2137\u001b[0m this_deco_class_name \u001b[39m=\u001b[39m this_deco_class\u001b[39m.\u001b[39m\u001b[39m__name__\u001b[39m\n\u001b[1;32m-> 2138\u001b[0m \u001b[39msetattr\u001b[39;49m(\n\u001b[0;32m   2139\u001b[0m     klass,\n\u001b[0;32m   2140\u001b[0m     \u001b[39m'\u001b[39;49m\u001b[39mget_\u001b[39;49m\u001b[39m'\u001b[39;49m \u001b[39m+\u001b[39;49m this_deco_class_name \u001b[39m+\u001b[39;49m \u001b[39m'\u001b[39;49m\u001b[39m_wrapper\u001b[39;49m\u001b[39m'\u001b[39;49m,\n\u001b[0;32m   2141\u001b[0m     \u001b[39mclassmethod\u001b[39;49m(partial(_get_deco_wrapper, this_deco_class))\n\u001b[0;32m   2142\u001b[0m )\n\u001b[0;32m   2143\u001b[0m \u001b[39m# Make it even easier for methods to find their own log_calls wrappers,\u001b[39;00m\n\u001b[0;32m   2144\u001b[0m \u001b[39m# via `get_own_log_calls_wrapper(fname)`\u001b[39;00m\n\u001b[0;32m   2145\u001b[0m \u001b[39m# or `get_own_record_history_wrapper(fname)`\u001b[39;00m\n\u001b[0;32m   2146\u001b[0m \u001b[39m# This can be called on a deco'd class or on an instance thereof.\u001b[39;00m\n\u001b[0;32m   2147\u001b[0m this_deco_class \u001b[39m=\u001b[39m \u001b[39mself\u001b[39m\u001b[39m.\u001b[39m\u001b[39m__class__\u001b[39m\n",
      "\u001b[1;31mTypeError\u001b[0m: cannot set 'get_record_history_wrapper' attribute of immutable type 'object'"
     ]
    }
   ],
   "source": [
    "from lightautoml.automl.presets.tabular_presets import TabularAutoML, TabularUtilizedAutoML\n",
    "from lightautoml.tasks import Task\n",
    "from lightautoml.report.report_deco import ReportDeco"
   ]
  }
 ],
 "metadata": {
  "kernelspec": {
   "display_name": "venv",
   "language": "python",
   "name": "python3"
  },
  "language_info": {
   "codemirror_mode": {
    "name": "ipython",
    "version": 3
   },
   "file_extension": ".py",
   "mimetype": "text/x-python",
   "name": "python",
   "nbconvert_exporter": "python",
   "pygments_lexer": "ipython3",
   "version": "3.11.4"
  }
 },
 "nbformat": 4,
 "nbformat_minor": 2
}
